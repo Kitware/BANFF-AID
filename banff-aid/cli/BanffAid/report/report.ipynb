{
 "cells": [
  {
   "cell_type": "markdown",
   "metadata": {},
   "source": [
    "# BANFF-AID\n",
    "\n",
    "## Report"
   ]
  },
  {
   "cell_type": "code",
   "execution_count": null,
   "metadata": {},
   "outputs": [],
   "source": [
    "# Setup \n",
    "import json\n",
    "\n",
    "import matplotlib.pyplot as plt\n",
    "from banff_lesion_scores.banff_lesion_scores import (\n",
    "    # compute_ci,\n",
    "    compute_ct,\n",
    "    # compute_cv,\n",
    "    compute_gs,\n",
    ")\n",
    "\n",
    "# from girder_client import GirderClient\n",
    "from slicer_cli_web import CLIArgumentParser\n",
    "\n",
    "configs = CLIArgumentParser().parse_args()"
   ]
  },
  {
   "cell_type": "markdown",
   "metadata": {},
   "source": [
    "### Interstitial Fibrosis (**ci**)\n",
    "\n",
    "REPORT FOR INTERSTITIAL FIBROSIS (BANFF LESION SCORE 'ci')\n",
    "\n",
    "(No Implementation Found)"
   ]
  },
  {
   "cell_type": "markdown",
   "metadata": {},
   "source": [
    "### Tubular Atrophy (**ct**)\n",
    "\n",
    "REPORT FOR TUBULAR  ATROPHY (BANFF LESION SCORE 'cT')"
   ]
  },
  {
   "cell_type": "code",
   "execution_count": null,
   "metadata": {},
   "outputs": [],
   "source": [
    "with open(configs.tubules_file) as file:\n",
    "    tubules = json.load(file)\n",
    "\n",
    "# Compute ct\n",
    "ct = compute_ct(tubules)\n",
    "\n",
    "# Print report\n",
    "for key, value in ct.items():\n",
    "    if key != \"Tubule Diameters\":\n",
    "        print(f\"{key}: {value}\")\n",
    "\n",
    "# Print histogram\n",
    "plt.hist(ct[\"Tubule Diameters\"])\n",
    "plt.show()"
   ]
  },
  {
   "cell_type": "markdown",
   "metadata": {},
   "source": [
    "### Vascular Intimal Thickening (**cv**)\n",
    "\n",
    "REPORT FOR VASCULAR INTIMAL THICKENING (BANFF LESION SCORE 'cv')\n",
    "\n",
    "(No Implementation Found)"
   ]
  },
  {
   "cell_type": "markdown",
   "metadata": {},
   "source": [
    "### Glomerulosclerosis\n",
    "\n",
    "REPORT FOR GLOMERULOSCLEROSIS"
   ]
  },
  {
   "cell_type": "code",
   "execution_count": null,
   "metadata": {},
   "outputs": [],
   "source": [
    "# Load annotations using JSON\n",
    "with open(configs.non_gsg_file) as file:\n",
    "    ngsg = json.load(file)\n",
    "with open(configs.gsg_file) as file:\n",
    "    gsg = json.load(file)\n",
    "\n",
    "# Compute GS\n",
    "gs = compute_gs(ngsg, gsg)\n",
    "\n",
    "# At some point in the future, I will have define the XML in a way that\n",
    "# we can save an actual report that can be downloaded for users. However,\n",
    "# we're not there yet, so I'm just going to print out the results to the\n",
    "# logger\n",
    "for key, value in gs.items():\n",
    "    print(f\"{key}: {value}\")"
   ]
  }
 ],
 "metadata": {
  "kernelspec": {
   "display_name": "Python 3",
   "language": "python",
   "name": "python3"
  },
  "language_info": {
   "name": "python",
   "version": "3.10.12"
  }
 },
 "nbformat": 4,
 "nbformat_minor": 2
}
